{
 "cells": [
  {
   "cell_type": "markdown",
   "metadata": {},
   "source": [
    "## House Weather Data Analysis\n",
    "\n",
    "Work out what to do with the data I'm capturing and learn Pandas and Jupyter in the process. Possibly also (re)learn some statistics.\n",
    "\n",
    "The top level github project for this [is here](https://github.com/users/oisinmulvihill/projects/3).\n"
   ]
  },
  {
   "cell_type": "code",
   "execution_count": 180,
   "metadata": {},
   "outputs": [],
   "source": [
    "import numpy as np\n",
    "import pandas as pd\n",
    "import matplotlib.pyplot as plt\n",
    "import seaborn as sns\n",
    "sns.set(style=\"darkgrid\")"
   ]
  },
  {
   "cell_type": "code",
   "execution_count": 181,
   "metadata": {},
   "outputs": [],
   "source": [
    "# Use the first column (timestamp) as the index\n",
    "df = pd.read_csv(\n",
    "    './data/indoor_sample.csv', \n",
    "    index_col=0,\n",
    "    names=[\"timestamp\", \"mac\", \"type\", \"t\", \"h\", \"p\", \"g\"],\n",
    "    parse_dates=True\n",
    ")"
   ]
  },
  {
   "cell_type": "code",
   "execution_count": 182,
   "metadata": {},
   "outputs": [
    {
     "data": {
      "text/html": [
       "<div>\n",
       "<style scoped>\n",
       "    .dataframe tbody tr th:only-of-type {\n",
       "        vertical-align: middle;\n",
       "    }\n",
       "\n",
       "    .dataframe tbody tr th {\n",
       "        vertical-align: top;\n",
       "    }\n",
       "\n",
       "    .dataframe thead th {\n",
       "        text-align: right;\n",
       "    }\n",
       "</style>\n",
       "<table border=\"1\" class=\"dataframe\">\n",
       "  <thead>\n",
       "    <tr style=\"text-align: right;\">\n",
       "      <th></th>\n",
       "      <th>mac</th>\n",
       "      <th>type</th>\n",
       "      <th>t</th>\n",
       "      <th>h</th>\n",
       "      <th>p</th>\n",
       "      <th>g</th>\n",
       "    </tr>\n",
       "    <tr>\n",
       "      <th>timestamp</th>\n",
       "      <th></th>\n",
       "      <th></th>\n",
       "      <th></th>\n",
       "      <th></th>\n",
       "      <th></th>\n",
       "      <th></th>\n",
       "    </tr>\n",
       "  </thead>\n",
       "  <tbody>\n",
       "    <tr>\n",
       "      <th>2020-06-19 22:25:18.725918</th>\n",
       "      <td>90:A2:DA:00:61:58</td>\n",
       "      <td>bme680</td>\n",
       "      <td>2310</td>\n",
       "      <td>44785</td>\n",
       "      <td>101504</td>\n",
       "      <td>311113</td>\n",
       "    </tr>\n",
       "    <tr>\n",
       "      <th>2020-06-19 22:26:26.303364</th>\n",
       "      <td>90:A2:DA:00:61:58</td>\n",
       "      <td>bme680</td>\n",
       "      <td>2307</td>\n",
       "      <td>48250</td>\n",
       "      <td>101561</td>\n",
       "      <td>360705</td>\n",
       "    </tr>\n",
       "    <tr>\n",
       "      <th>2020-06-19 22:26:33.113012</th>\n",
       "      <td>90:A2:DA:00:61:58</td>\n",
       "      <td>bme680</td>\n",
       "      <td>2310</td>\n",
       "      <td>47944</td>\n",
       "      <td>101642</td>\n",
       "      <td>274425</td>\n",
       "    </tr>\n",
       "    <tr>\n",
       "      <th>2020-06-20 00:09:19.839996</th>\n",
       "      <td>90:A2:DA:00:61:58</td>\n",
       "      <td>bme680</td>\n",
       "      <td>2406</td>\n",
       "      <td>46192</td>\n",
       "      <td>101799</td>\n",
       "      <td>212558</td>\n",
       "    </tr>\n",
       "    <tr>\n",
       "      <th>2020-06-20 00:14:19.937346</th>\n",
       "      <td>90:A2:DA:00:61:58</td>\n",
       "      <td>bme680</td>\n",
       "      <td>2405</td>\n",
       "      <td>45726</td>\n",
       "      <td>101799</td>\n",
       "      <td>155522</td>\n",
       "    </tr>\n",
       "  </tbody>\n",
       "</table>\n",
       "</div>"
      ],
      "text/plain": [
       "                                          mac    type     t      h       p  \\\n",
       "timestamp                                                                    \n",
       "2020-06-19 22:25:18.725918  90:A2:DA:00:61:58  bme680  2310  44785  101504   \n",
       "2020-06-19 22:26:26.303364  90:A2:DA:00:61:58  bme680  2307  48250  101561   \n",
       "2020-06-19 22:26:33.113012  90:A2:DA:00:61:58  bme680  2310  47944  101642   \n",
       "2020-06-20 00:09:19.839996  90:A2:DA:00:61:58  bme680  2406  46192  101799   \n",
       "2020-06-20 00:14:19.937346  90:A2:DA:00:61:58  bme680  2405  45726  101799   \n",
       "\n",
       "                                 g  \n",
       "timestamp                           \n",
       "2020-06-19 22:25:18.725918  311113  \n",
       "2020-06-19 22:26:26.303364  360705  \n",
       "2020-06-19 22:26:33.113012  274425  \n",
       "2020-06-20 00:09:19.839996  212558  \n",
       "2020-06-20 00:14:19.937346  155522  "
      ]
     },
     "execution_count": 182,
     "metadata": {},
     "output_type": "execute_result"
    }
   ],
   "source": [
    "df.head()"
   ]
  },
  {
   "cell_type": "code",
   "execution_count": 183,
   "metadata": {},
   "outputs": [
    {
     "data": {
      "text/plain": [
       "mac     object\n",
       "type    object\n",
       "t        int64\n",
       "h        int64\n",
       "p        int64\n",
       "g        int64\n",
       "dtype: object"
      ]
     },
     "execution_count": 183,
     "metadata": {},
     "output_type": "execute_result"
    }
   ],
   "source": [
    "df.dtypes"
   ]
  },
  {
   "cell_type": "markdown",
   "metadata": {},
   "source": [
    "### The columns are what the indoor_sampler sends\n",
    "\n",
    "See [sample server API](https://github.com/oisinmulvihill/sample_server#rest-api) endpoint for more details.\n",
    "\n",
    "- t: temperature (-40°C-85°C), integer, needs converting to decimal by /100\n",
    "- h: humidity (10%-90%, in 0°C-65°C), integer, convert to decimal by /1000\n",
    "- p: pressure (300hPa-1100hPa, in 0°C-65°C) integer, covert to decimal by /100\n",
    "- g: gas sensor resistance reading (50Ω <-> 50kΩ), integer, (not sure about conversion)\n",
    "\n",
    "Details for [BME680 sensor](https://community.bosch-sensortec.com/t5/Knowledge-base/BME680-Sensor-Data-Interpretation/ta-p/8713)"
   ]
  },
  {
   "cell_type": "markdown",
   "metadata": {},
   "source": [
    "**IAQ Notes**\n",
    "\n",
    "Rather annoyingly the Indoor Air Quality Score (IAQ) is generated using the manufacturers binary library rather than being open. I will come back around on this later. Some links to aid me possibly [get around using a close source binary](https://github.com/G6EJD/BME680-Example) or [Pimiori's Python lib](https://github.com/pimoroni/bme680-python/blob/master/examples/indoor-air-quality.py). Alternatively I could just use the [library](https://community.bosch-sensortec.com/t5/Question-and-answers/How-do-I-convert-BME680-gas-resistance-to-IAQ/qaq-p/9050), compile it into my Arduino Ethernet (not sure it will fit) and move on with my life.\n",
    "\n"
   ]
  },
  {
   "cell_type": "code",
   "execution_count": 184,
   "metadata": {},
   "outputs": [],
   "source": [
    "df['temperature'] = df.t / 100\n",
    "df['humidity'] = df.h / 1000\n",
    "df['pressure'] = df.p / 100\n",
    "df['gas'] = df.g"
   ]
  },
  {
   "cell_type": "code",
   "execution_count": 185,
   "metadata": {},
   "outputs": [
    {
     "data": {
      "text/html": [
       "<div>\n",
       "<style scoped>\n",
       "    .dataframe tbody tr th:only-of-type {\n",
       "        vertical-align: middle;\n",
       "    }\n",
       "\n",
       "    .dataframe tbody tr th {\n",
       "        vertical-align: top;\n",
       "    }\n",
       "\n",
       "    .dataframe thead th {\n",
       "        text-align: right;\n",
       "    }\n",
       "</style>\n",
       "<table border=\"1\" class=\"dataframe\">\n",
       "  <thead>\n",
       "    <tr style=\"text-align: right;\">\n",
       "      <th></th>\n",
       "      <th>mac</th>\n",
       "      <th>type</th>\n",
       "      <th>t</th>\n",
       "      <th>h</th>\n",
       "      <th>p</th>\n",
       "      <th>g</th>\n",
       "      <th>temperature</th>\n",
       "      <th>humidity</th>\n",
       "      <th>pressure</th>\n",
       "      <th>gas</th>\n",
       "    </tr>\n",
       "    <tr>\n",
       "      <th>timestamp</th>\n",
       "      <th></th>\n",
       "      <th></th>\n",
       "      <th></th>\n",
       "      <th></th>\n",
       "      <th></th>\n",
       "      <th></th>\n",
       "      <th></th>\n",
       "      <th></th>\n",
       "      <th></th>\n",
       "      <th></th>\n",
       "    </tr>\n",
       "  </thead>\n",
       "  <tbody>\n",
       "    <tr>\n",
       "      <th>2020-06-19 22:25:18.725918</th>\n",
       "      <td>90:A2:DA:00:61:58</td>\n",
       "      <td>bme680</td>\n",
       "      <td>2310</td>\n",
       "      <td>44785</td>\n",
       "      <td>101504</td>\n",
       "      <td>311113</td>\n",
       "      <td>23.10</td>\n",
       "      <td>44.785</td>\n",
       "      <td>1015.04</td>\n",
       "      <td>311113</td>\n",
       "    </tr>\n",
       "    <tr>\n",
       "      <th>2020-06-19 22:26:26.303364</th>\n",
       "      <td>90:A2:DA:00:61:58</td>\n",
       "      <td>bme680</td>\n",
       "      <td>2307</td>\n",
       "      <td>48250</td>\n",
       "      <td>101561</td>\n",
       "      <td>360705</td>\n",
       "      <td>23.07</td>\n",
       "      <td>48.250</td>\n",
       "      <td>1015.61</td>\n",
       "      <td>360705</td>\n",
       "    </tr>\n",
       "    <tr>\n",
       "      <th>2020-06-19 22:26:33.113012</th>\n",
       "      <td>90:A2:DA:00:61:58</td>\n",
       "      <td>bme680</td>\n",
       "      <td>2310</td>\n",
       "      <td>47944</td>\n",
       "      <td>101642</td>\n",
       "      <td>274425</td>\n",
       "      <td>23.10</td>\n",
       "      <td>47.944</td>\n",
       "      <td>1016.42</td>\n",
       "      <td>274425</td>\n",
       "    </tr>\n",
       "    <tr>\n",
       "      <th>2020-06-20 00:09:19.839996</th>\n",
       "      <td>90:A2:DA:00:61:58</td>\n",
       "      <td>bme680</td>\n",
       "      <td>2406</td>\n",
       "      <td>46192</td>\n",
       "      <td>101799</td>\n",
       "      <td>212558</td>\n",
       "      <td>24.06</td>\n",
       "      <td>46.192</td>\n",
       "      <td>1017.99</td>\n",
       "      <td>212558</td>\n",
       "    </tr>\n",
       "    <tr>\n",
       "      <th>2020-06-20 00:14:19.937346</th>\n",
       "      <td>90:A2:DA:00:61:58</td>\n",
       "      <td>bme680</td>\n",
       "      <td>2405</td>\n",
       "      <td>45726</td>\n",
       "      <td>101799</td>\n",
       "      <td>155522</td>\n",
       "      <td>24.05</td>\n",
       "      <td>45.726</td>\n",
       "      <td>1017.99</td>\n",
       "      <td>155522</td>\n",
       "    </tr>\n",
       "  </tbody>\n",
       "</table>\n",
       "</div>"
      ],
      "text/plain": [
       "                                          mac    type     t      h       p  \\\n",
       "timestamp                                                                    \n",
       "2020-06-19 22:25:18.725918  90:A2:DA:00:61:58  bme680  2310  44785  101504   \n",
       "2020-06-19 22:26:26.303364  90:A2:DA:00:61:58  bme680  2307  48250  101561   \n",
       "2020-06-19 22:26:33.113012  90:A2:DA:00:61:58  bme680  2310  47944  101642   \n",
       "2020-06-20 00:09:19.839996  90:A2:DA:00:61:58  bme680  2406  46192  101799   \n",
       "2020-06-20 00:14:19.937346  90:A2:DA:00:61:58  bme680  2405  45726  101799   \n",
       "\n",
       "                                 g  temperature  humidity  pressure     gas  \n",
       "timestamp                                                                    \n",
       "2020-06-19 22:25:18.725918  311113        23.10    44.785   1015.04  311113  \n",
       "2020-06-19 22:26:26.303364  360705        23.07    48.250   1015.61  360705  \n",
       "2020-06-19 22:26:33.113012  274425        23.10    47.944   1016.42  274425  \n",
       "2020-06-20 00:09:19.839996  212558        24.06    46.192   1017.99  212558  \n",
       "2020-06-20 00:14:19.937346  155522        24.05    45.726   1017.99  155522  "
      ]
     },
     "execution_count": 185,
     "metadata": {},
     "output_type": "execute_result"
    }
   ],
   "source": [
    "df.head()"
   ]
  },
  {
   "cell_type": "code",
   "execution_count": 186,
   "metadata": {},
   "outputs": [],
   "source": [
    "# Group by date\n",
    "group_by_date = df.loc[:, ['temperature', 'humidity', 'pressure']].groupby(df.index.date)"
   ]
  },
  {
   "cell_type": "code",
   "execution_count": null,
   "metadata": {},
   "outputs": [],
   "source": []
  },
  {
   "cell_type": "code",
   "execution_count": 188,
   "metadata": {},
   "outputs": [
    {
     "data": {
      "text/plain": [
       "[<matplotlib.lines.Line2D at 0x14fe3f810>]"
      ]
     },
     "execution_count": 188,
     "metadata": {},
     "output_type": "execute_result"
    },
    {
     "data": {
      "image/png": "[encoded data removed]",
      "text/plain": [
       "<Figure size 432x288 with 1 Axes>"
      ]
     },
     "metadata": {},
     "output_type": "display_data"
    }
   ],
   "source": [
    "max = group_by_date.max()\n",
    "mean = group_by_date.mean()\n",
    "min = group_by_date.min()\n",
    "\n",
    "fig, ax = plt.subplots()\n",
    "# ax.set_ylabel(\"Temperture Range\")\n",
    "\n",
    "ax.plot(max.index, max.temperature)\n",
    "ax.plot(mean.index, mean.temperature)\n",
    "ax.plot(min.index, min.temperature)\n",
    "\n",
    "#ax.plot(max.index, max.humidity)\n",
    "#ax.plot(max.index, max.pressure)\n",
    "\n"
   ]
  },
  {
   "cell_type": "code",
   "execution_count": null,
   "metadata": {},
   "outputs": [],
   "source": []
  }
 ],
 "metadata": {
  "kernelspec": {
   "display_name": "Python 3",
   "language": "python",
   "name": "python3"
  },
  "language_info": {
   "codemirror_mode": {
    "name": "ipython",
    "version": 3
   },
   "file_extension": ".py",
   "mimetype": "text/x-python",
   "name": "python",
   "nbconvert_exporter": "python",
   "pygments_lexer": "ipython3",
   "version": "3.7.7"
  }
 },
 "nbformat": 4,
 "nbformat_minor": 4
}
